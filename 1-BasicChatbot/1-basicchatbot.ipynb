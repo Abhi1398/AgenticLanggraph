{
 "cells": [
  {
   "cell_type": "markdown",
   "id": "b4c698aa",
   "metadata": {},
   "source": [
    "### Build a Basic Chatbot with Langgraph ( Graph API )\n"
   ]
  },
  {
   "cell_type": "code",
   "execution_count": null,
   "id": "3582cb0a",
   "metadata": {},
   "outputs": [
    {
     "data": {
      "text/plain": [
       "True"
      ]
     },
     "execution_count": 5,
     "metadata": {},
     "output_type": "execute_result"
    }
   ],
   "source": [
    "import os \n",
    "from dotenv import load_dotenv\n",
    "from typing import Annotated\n",
    "from typing_extensions import TypedDict\n",
    "from langgraph.graph import StateGraph, START, END\n",
    "from langgraph.graph.message import add_messages\n",
    "\n",
    "\n",
    "load_dotenv()\n"
   ]
  },
  {
   "cell_type": "code",
   "execution_count": 6,
   "id": "94447117",
   "metadata": {},
   "outputs": [],
   "source": [
    "class State(TypedDict):\n",
    "    ## \"\"\"State type for the graph.\"\"\"\n",
    "    messages: Annotated[list, add_messages]  # type: ignore[valid-type]\n",
    "\n",
    "graph_builder = StateGraph(State)"
   ]
  },
  {
   "cell_type": "code",
   "execution_count": 7,
   "id": "09183719",
   "metadata": {},
   "outputs": [],
   "source": [
    "from langchain_groq import ChatGroq\n",
    "from langchain.chat_models import init_chat_model\n",
    "\n",
    "llm = ChatGroq(model=\"llama-3.3-70b-versatile\")\n",
    "llm = init_chat_model(\"groq:llama-3.3-70b-versatile\")\n",
    "             "
   ]
  },
  {
   "cell_type": "code",
   "execution_count": 8,
   "id": "bf42a0cf",
   "metadata": {},
   "outputs": [],
   "source": [
    "## Node Functionality\n",
    "def chatbot(state: State):\n",
    "    return {\"messages\":[llm.invoke(state[\"messages\"])]}"
   ]
  },
  {
   "cell_type": "code",
   "execution_count": 9,
   "id": "cb1a0c66",
   "metadata": {},
   "outputs": [
    {
     "data": {
      "image/png": "[encoded data removed]",
      "text/plain": [
       "<IPython.core.display.Image object>"
      ]
     },
     "metadata": {},
     "output_type": "display_data"
    }
   ],
   "source": [
    "graph_builder = StateGraph(State)\n",
    "graph_builder.add_node(\"llmchatbot\",chatbot)\n",
    "graph_builder.add_edge(START, \"llmchatbot\")\n",
    "graph_builder.add_edge(\"llmchatbot\", END)\n",
    "\n",
    "## Compile the graph\n",
    "graph = graph_builder.compile()\n",
    "\n",
    "## Visualize the graph\n",
    "from IPython.display import Image,display\n",
    "\n",
    "try:\n",
    "    display(Image(graph.get_graph().draw_mermaid_png()))\n",
    "except Exception as e:\n",
    "    print(f\"Error displaying graph: {e}\")"
   ]
  },
  {
   "cell_type": "code",
   "execution_count": 10,
   "id": "b8e82a07",
   "metadata": {},
   "outputs": [
    {
     "data": {
      "text/plain": [
       "'Hello. How can I assist you today?'"
      ]
     },
     "execution_count": 10,
     "metadata": {},
     "output_type": "execute_result"
    }
   ],
   "source": [
    "response = graph.invoke(\n",
    "    {\n",
    "        \"messages\": \"Hello\"\n",
    "    }\n",
    ")\n",
    "response[\"messages\"][-1].content"
   ]
  },
  {
   "cell_type": "code",
   "execution_count": 11,
   "id": "f30e6692",
   "metadata": {},
   "outputs": [
    {
     "name": "stdout",
     "output_type": "stream",
     "text": [
      "Hello, I'm doing well, thanks for asking. I'm a large language model, so I don't have feelings or emotions like humans do, but I'm functioning properly and ready to help with any questions or tasks you may have. How about you? How's your day going?\n"
     ]
    }
   ],
   "source": [
    "## Stream the response\n",
    "for event in graph.stream(\n",
    "    {\n",
    "        \"messages\": \"Hello, How are you ?\"\n",
    "    }\n",
    "):\n",
    "    for vlaue in event.values():\n",
    "        print(vlaue[\"messages\"][-1].content)"
   ]
  },
  {
   "cell_type": "markdown",
   "id": "4ad62ab3",
   "metadata": {},
   "source": [
    "### CHATBOT WITH TOOLS\n"
   ]
  },
  {
   "cell_type": "code",
   "execution_count": 12,
   "id": "dcd435da",
   "metadata": {},
   "outputs": [
    {
     "data": {
      "text/plain": [
       "{'query': 'What is the capital of France?',\n",
       " 'follow_up_questions': None,\n",
       " 'answer': None,\n",
       " 'images': [],\n",
       " 'results': [{'title': 'List of capitals of France - Wikipedia',\n",
       "   'url': 'https://en.wikipedia.org/wiki/List_of_capitals_of_France',\n",
       "   'content': \"List of capitals of France - Wikipedia Article [x] Tools  This is a chronological list of capitals of France. The capital of France has been Paris since its liberation in 1944.[1] Paris (987–1419), the residence of the Kings of France, although they were consecrated at Reims. Troyes (1419–1422), for a short time during the Hundred Years' War, the city was the seat of the royal government. Paris (1594–1682)[citation needed] Tours (10–13 June 1940), the city served as the temporary capital of France during World War II after the government fled Paris due to the German advance. Algiers (1943–1944), the city was made the seat of Free France, to be closer to the war in Europe. *   All articles needing additional references\",\n",
       "   'score': 0.94174546,\n",
       "   'raw_content': None},\n",
       "  {'title': 'What is the Capital of France? - WorldAtlas',\n",
       "   'url': 'https://www.worldatlas.com/articles/what-is-the-capital-of-france.html',\n",
       "   'content': 'Paris is the capital city of France. Contrary to popular belief, the name of the city did not come from the Paris in Greek myths. Located in the north of Central France, the city is relatively flat with the highest point being 427 feet (which is Montmartre) above sea level while the lowest point is 115 feet above the sea level. With a GDP of approximately $850 billion, Paris is the country’s leader for economic activities. Tourists are attracted to Paris because of the rich history the city has including its monuments and sights. As the capital city of France, the city plays host to the national government of France. How Many Countries Are There In Africa? [x] Countries  All Countries',\n",
       "   'score': 0.9170729,\n",
       "   'raw_content': None}],\n",
       " 'response_time': 1.98}"
      ]
     },
     "execution_count": 12,
     "metadata": {},
     "output_type": "execute_result"
    }
   ],
   "source": [
    "from langchain_tavily import TavilySearch\n",
    "\n",
    "tavily_tool = TavilySearch(max_results=2)\n",
    "tavily_tool.invoke(\"What is the capital of France?\")"
   ]
  },
  {
   "cell_type": "code",
   "execution_count": 13,
   "id": "41ddf950",
   "metadata": {},
   "outputs": [
    {
     "data": {
      "text/plain": [
       "RunnableBinding(bound=ChatGroq(client=<groq.resources.chat.completions.Completions object at 0x10f4c0990>, async_client=<groq.resources.chat.completions.AsyncCompletions object at 0x10f4c1910>, model_name='llama-3.3-70b-versatile', model_kwargs={}, groq_api_key=SecretStr('**********')), kwargs={'tools': [{'type': 'function', 'function': {'name': 'tavily_search', 'description': 'A search engine optimized for comprehensive, accurate, and trusted results. Useful for when you need to answer questions about current events. It not only retrieves URLs and snippets, but offers advanced search depths, domain management, time range filters, and image search, this tool delivers real-time, accurate, and citation-backed results.Input should be a search query.', 'parameters': {'properties': {'query': {'description': 'Search query to look up', 'type': 'string'}, 'include_domains': {'anyOf': [{'items': {'type': 'string'}, 'type': 'array'}, {'type': 'null'}], 'default': [], 'description': 'A list of domains to restrict search results to.\\n\\n        Use this parameter when:\\n        1. The user explicitly requests information from specific websites (e.g., \"Find climate data from nasa.gov\")\\n        2. The user mentions an organization or company without specifying the domain (e.g., \"Find information about iPhones from Apple\")\\n\\n        In both cases, you should determine the appropriate domains (e.g., [\"nasa.gov\"] or [\"apple.com\"]) and set this parameter.\\n\\n        Results will ONLY come from the specified domains - no other sources will be included.\\n        Default is None (no domain restriction).\\n        '}, 'exclude_domains': {'anyOf': [{'items': {'type': 'string'}, 'type': 'array'}, {'type': 'null'}], 'default': [], 'description': 'A list of domains to exclude from search results.\\n\\n        Use this parameter when:\\n        1. The user explicitly requests to avoid certain websites (e.g., \"Find information about climate change but not from twitter.com\")\\n        2. The user mentions not wanting results from specific organizations without naming the domain (e.g., \"Find phone reviews but nothing from Apple\")\\n\\n        In both cases, you should determine the appropriate domains to exclude (e.g., [\"twitter.com\"] or [\"apple.com\"]) and set this parameter.\\n\\n        Results will filter out all content from the specified domains.\\n        Default is None (no domain exclusion).\\n        '}, 'search_depth': {'anyOf': [{'enum': ['basic', 'advanced'], 'type': 'string'}, {'type': 'null'}], 'default': 'basic', 'description': 'Controls search thoroughness and result comprehensiveness.\\n    \\n        Use \"basic\" for simple queries requiring quick, straightforward answers.\\n        \\n        Use \"advanced\" (default) for complex queries, specialized topics, \\n        rare information, or when in-depth analysis is needed.\\n        '}, 'include_images': {'anyOf': [{'type': 'boolean'}, {'type': 'null'}], 'default': False, 'description': 'Determines if the search returns relevant images along with text results.\\n   \\n        Set to True when the user explicitly requests visuals or when images would \\n        significantly enhance understanding (e.g., \"Show me what black holes look like,\" \\n        \"Find pictures of Renaissance art\").\\n        \\n        Leave as False (default) for most informational queries where text is sufficient.\\n        '}, 'time_range': {'anyOf': [{'enum': ['day', 'week', 'month', 'year'], 'type': 'string'}, {'type': 'null'}], 'default': None, 'description': 'Limits results to content published within a specific timeframe.\\n        \\n        ONLY set this when the user explicitly mentions a time period \\n        (e.g., \"latest AI news,\" \"articles from last week\").\\n        \\n        For less popular or niche topics, use broader time ranges \\n        (\"month\" or \"year\") to ensure sufficient relevant results.\\n   \\n        Options: \"day\" (24h), \"week\" (7d), \"month\" (30d), \"year\" (365d).\\n        \\n        Default is None.\\n        '}, 'topic': {'anyOf': [{'enum': ['general', 'news', 'finance'], 'type': 'string'}, {'type': 'null'}], 'default': 'general', 'description': 'Specifies search category for optimized results.\\n   \\n        Use \"general\" (default) for most queries, INCLUDING those with terms like \\n        \"latest,\" \"newest,\" or \"recent\" when referring to general information.\\n\\n        Use \"finance\" for markets, investments, economic data, or financial news.\\n\\n        Use \"news\" ONLY for politics, sports, or major current events covered by \\n        mainstream media - NOT simply because a query asks for \"new\" information.\\n        '}}, 'required': ['query'], 'type': 'object'}}}, {'type': 'function', 'function': {'name': 'multiply', 'description': 'Multiply a and b\\nArgs:\\n    a (int): First number\\n    b (int): Second number\\nReturns:\\n    int: Product of a and b', 'parameters': {'properties': {'a': {'type': 'integer'}, 'b': {'type': 'integer'}}, 'required': ['a', 'b'], 'type': 'object'}}}]}, config={}, config_factories=[])"
      ]
     },
     "execution_count": 13,
     "metadata": {},
     "output_type": "execute_result"
    }
   ],
   "source": [
    "## Custom Function\n",
    "def multiply(a: int, b: int) -> int:\n",
    "    \"\"\"Multiply a and b\n",
    "    Args:\n",
    "        a (int): First number\n",
    "        b (int): Second number\n",
    "    Returns:\n",
    "        int: Product of a and b\n",
    "    \"\"\"\n",
    "    return a * b\n",
    "\n",
    "tools = [tavily_tool, multiply]\n",
    "llm_with_tools = llm.bind_tools(tools)\n",
    "llm_with_tools\n"
   ]
  },
  {
   "cell_type": "code",
   "execution_count": 14,
   "id": "42c9e883",
   "metadata": {},
   "outputs": [
    {
     "data": {
      "image/png": "[encoded data removed]",
      "text/plain": [
       "<IPython.core.display.Image object>"
      ]
     },
     "metadata": {},
     "output_type": "display_data"
    }
   ],
   "source": [
    "## StateGraph with tools\n",
    "from langgraph.graph import StateGraph, START, END\n",
    "from langgraph.prebuilt import ToolNode\n",
    "from langgraph.prebuilt import tools_condition\n",
    "\n",
    "## Node definition\n",
    "def tool_calling_llm(state: State):\n",
    "    return {\"messages\": [\n",
    "        llm_with_tools.invoke(\n",
    "            state[\"messages\"])]}\n",
    "\n",
    "## Graph\n",
    "builder = StateGraph(State)\n",
    "builder.add_node(\"tool_calling_llm\",tool_calling_llm)\n",
    "builder.add_node(\"tools\",ToolNode(tools))\n",
    "\n",
    "## Edges\n",
    "builder.add_edge(START, \"tool_calling_llm\")\n",
    "builder.add_conditional_edges(\"tool_calling_llm\", \n",
    "                              ## If the latest message is a tool call --> tools_condition route to tools\n",
    "                              ## If the latest message is not a tool call, route to END\n",
    "                              tools_condition)\n",
    "builder.add_edge(\"tools\", END)\n",
    "\n",
    "## Compile the graph\n",
    "graph_with_tools = builder.compile()\n",
    "## Visualize the graph\n",
    "display(Image(graph_with_tools.get_graph().draw_mermaid_png()))\n"
   ]
  },
  {
   "cell_type": "code",
   "execution_count": 15,
   "id": "36d87dfa",
   "metadata": {},
   "outputs": [
    {
     "name": "stdout",
     "output_type": "stream",
     "text": [
      "================================\u001b[1m Human Message \u001b[0m=================================\n",
      "\n",
      "What is capital of India?\n",
      "==================================\u001b[1m Ai Message \u001b[0m==================================\n",
      "Tool Calls:\n",
      "  tavily_search (a1vb6qdx8)\n",
      " Call ID: a1vb6qdx8\n",
      "  Args:\n",
      "    query: Capital of India\n",
      "    search_depth: basic\n",
      "    topic: general\n",
      "=================================\u001b[1m Tool Message \u001b[0m=================================\n",
      "Name: tavily_search\n",
      "\n",
      "{\"query\": \"Capital of India\", \"follow_up_questions\": null, \"answer\": null, \"images\": [], \"results\": [{\"title\": \"New Delhi - Wikipedia\", \"url\": \"https://en.wikipedia.org/wiki/New_Delhi\", \"content\": \"New Delhi (/ ˈ nj uː ˈ d ɛ. l i / ⓘ; [6] Hindi: Naī Dillī, pronounced [ˈnəiː ˈdɪlːiː]) is the capital of India and a part of the National Capital Territory of Delhi (NCT). New Delhi is the seat of all three branches of the Government of India, hosting the Rashtrapati Bhavan, Sansad Bhavan, and the Supreme Court.New Delhi is a municipality within the NCT, administered by the New\", \"score\": 0.8708723, \"raw_content\": null}, {\"title\": \"List of Indian States and Capitals, Updated List 2025 - Vajiram & Ravi\", \"url\": \"https://vajiramandravi.com/current-affairs/states-and-capitals-of-india/\", \"content\": \"*   UPSC 2025 Currently, India comprises 28 states and 8 union territories, each with distinct administrative, legislative, and judicial capitals. Having a basic understanding of India’s states and capitals is essential for every citizen, and this knowledge is frequently tested in UPSC Exam 2025 as part of General Awareness. India is a diverse nation, comprising 28 states and 8 union territories, each contributing uniquely to the country’s rich cultural heritage. India’s capital city, New Delhi, is a union territory. Other union territories in India include the Andaman and Nicobar Islands, Chandigarh, Dadra and Nagar Haveli, Daman and Diu, Jammu and Kashmir, Ladakh, Lakshadweep, and Puducherry. Each state and union territory in India is unique, with its own cultures, languages, and religions. *   UPSC 2025\", \"score\": 0.81204927, \"raw_content\": null}], \"response_time\": 1.84}\n"
     ]
    }
   ],
   "source": [
    "response = graph_with_tools.invoke(    {\n",
    "        \"messages\": \"What is capital of India?\"\n",
    "    }\n",
    ")\n",
    "for m in response[\"messages\"]:\n",
    "    m.pretty_print()"
   ]
  },
  {
   "cell_type": "code",
   "execution_count": 16,
   "id": "5a512d4e",
   "metadata": {},
   "outputs": [
    {
     "name": "stdout",
     "output_type": "stream",
     "text": [
      "================================\u001b[1m Human Message \u001b[0m=================================\n",
      "\n",
      "What is capital of India?\n",
      "==================================\u001b[1m Ai Message \u001b[0m==================================\n",
      "Tool Calls:\n",
      "  tavily_search (a1vb6qdx8)\n",
      " Call ID: a1vb6qdx8\n",
      "  Args:\n",
      "    query: Capital of India\n",
      "    search_depth: basic\n",
      "    topic: general\n",
      "=================================\u001b[1m Tool Message \u001b[0m=================================\n",
      "Name: tavily_search\n",
      "\n",
      "{\"query\": \"Capital of India\", \"follow_up_questions\": null, \"answer\": null, \"images\": [], \"results\": [{\"title\": \"New Delhi - Wikipedia\", \"url\": \"https://en.wikipedia.org/wiki/New_Delhi\", \"content\": \"New Delhi (/ ˈ nj uː ˈ d ɛ. l i / ⓘ; [6] Hindi: Naī Dillī, pronounced [ˈnəiː ˈdɪlːiː]) is the capital of India and a part of the National Capital Territory of Delhi (NCT). New Delhi is the seat of all three branches of the Government of India, hosting the Rashtrapati Bhavan, Sansad Bhavan, and the Supreme Court.New Delhi is a municipality within the NCT, administered by the New\", \"score\": 0.8708723, \"raw_content\": null}, {\"title\": \"List of Indian States and Capitals, Updated List 2025 - Vajiram & Ravi\", \"url\": \"https://vajiramandravi.com/current-affairs/states-and-capitals-of-india/\", \"content\": \"*   UPSC 2025 Currently, India comprises 28 states and 8 union territories, each with distinct administrative, legislative, and judicial capitals. Having a basic understanding of India’s states and capitals is essential for every citizen, and this knowledge is frequently tested in UPSC Exam 2025 as part of General Awareness. India is a diverse nation, comprising 28 states and 8 union territories, each contributing uniquely to the country’s rich cultural heritage. India’s capital city, New Delhi, is a union territory. Other union territories in India include the Andaman and Nicobar Islands, Chandigarh, Dadra and Nagar Haveli, Daman and Diu, Jammu and Kashmir, Ladakh, Lakshadweep, and Puducherry. Each state and union territory in India is unique, with its own cultures, languages, and religions. *   UPSC 2025\", \"score\": 0.81204927, \"raw_content\": null}], \"response_time\": 1.84}\n"
     ]
    }
   ],
   "source": [
    "response1 = graph_with_tools.invoke(    {\n",
    "        \"messages\": \"What is 30 multiplied by 40 and then multiply it by 20 and then give me the recent AI news ?\"\n",
    "    }\n",
    ")\n",
    "for m in response[\"messages\"]:\n",
    "    m.pretty_print()"
   ]
  },
  {
   "cell_type": "markdown",
   "id": "ca76c394",
   "metadata": {},
   "source": [
    "### ReAct Agent Architecture\n"
   ]
  },
  {
   "cell_type": "code",
   "execution_count": 17,
   "id": "d0b63b34",
   "metadata": {},
   "outputs": [
    {
     "data": {
      "image/png": "[encoded data removed]",
      "text/plain": [
       "<IPython.core.display.Image object>"
      ]
     },
     "metadata": {},
     "output_type": "display_data"
    }
   ],
   "source": [
    "## StateGraph with tools\n",
    "from langgraph.graph import StateGraph, START, END\n",
    "from langgraph.prebuilt import ToolNode\n",
    "from langgraph.prebuilt import tools_condition\n",
    "\n",
    "## Node definition\n",
    "def tool_calling_llm(state: State):\n",
    "    return {\"messages\": [\n",
    "        llm_with_tools.invoke(\n",
    "            state[\"messages\"])]}\n",
    "\n",
    "## Graph\n",
    "builder = StateGraph(State)\n",
    "builder.add_node(\"tool_calling_llm\",tool_calling_llm)\n",
    "builder.add_node(\"tools\",ToolNode(tools))\n",
    "\n",
    "## Edges\n",
    "builder.add_edge(START, \"tool_calling_llm\")\n",
    "builder.add_conditional_edges(\"tool_calling_llm\", \n",
    "                              ## If the latest message is a tool call --> tools_condition route to tools\n",
    "                              ## If the latest message is not a tool call, route to END\n",
    "                              tools_condition)\n",
    "builder.add_edge(\"tools\", \"tool_calling_llm\")\n",
    "\n",
    "## Compile the graph\n",
    "graph_with_react = builder.compile()\n",
    "## Visualize the graph\n",
    "display(Image(graph_with_react.get_graph().draw_mermaid_png()))"
   ]
  },
  {
   "cell_type": "code",
   "execution_count": 18,
   "id": "f8d46bd7",
   "metadata": {},
   "outputs": [
    {
     "name": "stdout",
     "output_type": "stream",
     "text": [
      "================================\u001b[1m Human Message \u001b[0m=================================\n",
      "\n",
      "Give me the recent AI news\n",
      "==================================\u001b[1m Ai Message \u001b[0m==================================\n",
      "Tool Calls:\n",
      "  tavily_search (a708ejpjz)\n",
      " Call ID: a708ejpjz\n",
      "  Args:\n",
      "    query: recent AI news\n",
      "    search_depth: advanced\n",
      "    time_range: day\n",
      "    topic: news\n",
      "=================================\u001b[1m Tool Message \u001b[0m=================================\n",
      "Name: tavily_search\n",
      "\n",
      "{\"query\": \"recent AI news\", \"follow_up_questions\": null, \"answer\": null, \"images\": [], \"results\": [{\"url\": \"https://www.pcgamer.com/software/ai/an-ai-holds-the-top-slot-in-a-leaderboard-that-ranks-people-who-hunt-for-system-vulnerabilities-used-by-hackers/\", \"title\": \"An AI holds the top slot in a leaderboard that ranks people who hunt for system vulnerabilities used by hackers - PC Gamer\", \"score\": 0.6780931, \"published_date\": \"Wed, 25 Jun 2025 16:30:18 GMT\", \"content\": \"holds a smartphone displaying the logo of “Claude,” an AI language model by Anthropic, with the company’s logo visible in the background, illustrating the rapid development and adoption of generative AI technologies, on December 29, 2024 in Chongqing, China. Artificial Intelligence (AI) has become a cornerstone of China’s strategic ambitions, with the government aiming to establish the country as a global leader in AI by 2030. US judge rules that Anthropic's use of copyrighted content to train [...] What Xbow is doing isn't exactly new, as ethical hackers have been using all kinds of automated tools to test and check code, websites, and the like for years. AI has been of particular interest more recently, of course, because if there is one thing that artificial intelligence models are good at, it's trawling through vast amounts of data to find common patterns.\\n\\nLatest Videos From PC Gamer\\n\\nThe Rogue Prince of Persia comeback trailer - PC Gaming Show 2025 [...] Image 27: CHONGQING, CHINA - DECEMBER 29: In this photo illustration, a person holds a smartphone displaying the logo of “Claude,” an AI language model by Anthropic, with the company’s logo visible in the background, illustrating the rapid development and adoption of generative AI technologies, on December 29, 2024 in Chongqing, China. Artificial Intelligence (AI) has become a cornerstone of China’s strategic ambitions, with the government aiming to establish the country as a global leader in\", \"raw_content\": null}, {\"url\": \"https://www.businessinsider.com/cargurus-working-group-employees-ai-experimentation-2025-6\", \"title\": \"CarGurus created a working group for AI experimentation. Employees are buying in. - Business Insider\", \"score\": 0.6557114, \"published_date\": \"Wed, 25 Jun 2025 18:23:00 GMT\", \"content\": \"# CarGurus created a working group for AI experimentation. Employees are buying in.\\n\\nSarah Rich is photographed against a blue background and wears a black collared shirt.\\n\\nThere's no shortage of hype around the potential for AI to transform the workplace. A recent McKinsey report compared the tech to the birth of the internet and the arrival of the steam engine.\", \"raw_content\": null}], \"response_time\": 1.63}\n",
      "==================================\u001b[1m Ai Message \u001b[0m==================================\n",
      "\n",
      "Based on the search results, the recent AI news includes:\n",
      "\n",
      "* An AI holding the top slot in a leaderboard that ranks people who hunt for system vulnerabilities used by hackers.\n",
      "* CarGurus creating a working group for AI experimentation, with employees buying into the idea.\n",
      "\n",
      "You can find more information about these topics by visiting the provided URLs or searching for related keywords.\n"
     ]
    }
   ],
   "source": [
    "response2 = graph_with_react.invoke(    {\n",
    "        \"messages\": \"Give me the recent AI news\"\n",
    "    }\n",
    ")\n",
    "for m in response2[\"messages\"]:\n",
    "    m.pretty_print()"
   ]
  },
  {
   "cell_type": "markdown",
   "id": "0332b311",
   "metadata": {},
   "source": [
    "### Memory in Agents\n"
   ]
  },
  {
   "cell_type": "code",
   "execution_count": null,
   "id": "7a2bfa69",
   "metadata": {},
   "outputs": [
    {
     "data": {
      "image/png": "[encoded data removed]",
      "text/plain": [
       "<IPython.core.display.Image object>"
      ]
     },
     "metadata": {},
     "output_type": "display_data"
    }
   ],
   "source": [
    "## StateGraph with tools\n",
    "from langgraph.graph import StateGraph, START, END\n",
    "from langgraph.prebuilt import ToolNode\n",
    "from langgraph.prebuilt import tools_condition\n",
    "from langgraph.checkpoint.memory import MemorySaver\n",
    "\n",
    "memory = MemorySaver()\n",
    "\n",
    "## Node definition\n",
    "def tool_calling_llm(state: State):\n",
    "    return {\"messages\": [\n",
    "        llm_with_tools.invoke(\n",
    "            state[\"messages\"])]}\n",
    "\n",
    "## Graph\n",
    "builder = StateGraph(State)\n",
    "builder.add_node(\"tool_calling_llm\",tool_calling_llm)\n",
    "builder.add_node(\"tools\",ToolNode(tools))\n",
    "\n",
    "## Edges\n",
    "builder.add_edge(START, \"tool_calling_llm\")\n",
    "builder.add_conditional_edges(\"tool_calling_llm\", \n",
    "                              ## If the latest message is a tool call --> tools_condition route to tools\n",
    "                              ## If the latest message is not a tool call, route to END\n",
    "                              tools_condition)\n",
    "builder.add_edge(\"tools\", \"tool_calling_llm\")\n",
    "\n",
    "## Compile the graph\n",
    "graph_with_mem = builder.compile(checkpointer=memory)\n",
    "## Visualize the graph\n",
    "display(Image(graph_with_mem.get_graph().draw_mermaid_png()))"
   ]
  },
  {
   "cell_type": "code",
   "execution_count": null,
   "id": "a17c6fd9",
   "metadata": {},
   "outputs": [
    {
     "name": "stdout",
     "output_type": "stream",
     "text": [
      "================================\u001b[1m Human Message \u001b[0m=================================\n",
      "\n",
      "Hello, my name is Abhishek\n",
      "==================================\u001b[1m Ai Message \u001b[0m==================================\n",
      "\n",
      "It's nice to meet you, Abhishek. Is there something I can help you with or would you like to chat?\n"
     ]
    }
   ],
   "source": [
    "## Add configurable thread_id to the config\n",
    "config = {\"configurable\": {\"thread_id\":\"1\"}}\n",
    "\n",
    "response_with_mem = graph_with_mem.invoke({\"messages\": \"Hello, my name is Abhishek\"},config=config)\n",
    "for m in response_with_mem[\"messages\"]:\n",
    "    m.pretty_print()"
   ]
  },
  {
   "cell_type": "code",
   "execution_count": 27,
   "id": "81bb753b",
   "metadata": {},
   "outputs": [
    {
     "name": "stdout",
     "output_type": "stream",
     "text": [
      "================================\u001b[1m Human Message \u001b[0m=================================\n",
      "\n",
      "Hello, my name is Abhishek\n",
      "==================================\u001b[1m Ai Message \u001b[0m==================================\n",
      "\n",
      "It's nice to meet you, Abhishek. Is there something I can help you with or would you like to chat?\n",
      "================================\u001b[1m Human Message \u001b[0m=================================\n",
      "\n",
      "Hello, what is my name ?\n",
      "==================================\u001b[1m Ai Message \u001b[0m==================================\n",
      "\n",
      "Your name is Abhishek.\n",
      "================================\u001b[1m Human Message \u001b[0m=================================\n",
      "\n",
      "My parents are Nidhi Seth & Dilip Seth. Now tell me what are my parents name ?\n",
      "==================================\u001b[1m Ai Message \u001b[0m==================================\n",
      "\n",
      "Your parents' names are Nidhi Seth and Dilip Seth.\n"
     ]
    }
   ],
   "source": [
    "response_with_mem = graph_with_mem.invoke({\"messages\": \"My parents are Nidhi Seth & Dilip Seth. Now tell me what are my parents name ?\"},config=config)\n",
    "for m in response_with_mem[\"messages\"]:\n",
    "    m.pretty_print()"
   ]
  },
  {
   "cell_type": "code",
   "execution_count": 29,
   "id": "bb703e11",
   "metadata": {},
   "outputs": [
    {
     "name": "stdout",
     "output_type": "stream",
     "text": [
      "================================\u001b[1m Human Message \u001b[0m=================================\n",
      "\n",
      "Hello, my name is Abhishek\n",
      "==================================\u001b[1m Ai Message \u001b[0m==================================\n",
      "\n",
      "It's nice to meet you, Abhishek. Is there something I can help you with or would you like to chat?\n",
      "================================\u001b[1m Human Message \u001b[0m=================================\n",
      "\n",
      "Hello, what is my name ?\n",
      "==================================\u001b[1m Ai Message \u001b[0m==================================\n",
      "\n",
      "Your name is Abhishek.\n",
      "================================\u001b[1m Human Message \u001b[0m=================================\n",
      "\n",
      "My parents are Nidhi Seth & Dilip Seth. Now tell me what are my parents name ?\n",
      "==================================\u001b[1m Ai Message \u001b[0m==================================\n",
      "\n",
      "Your parents' names are Nidhi Seth and Dilip Seth.\n",
      "================================\u001b[1m Human Message \u001b[0m=================================\n",
      "\n",
      "Who is dilip seth ?\n",
      "==================================\u001b[1m Ai Message \u001b[0m==================================\n",
      "\n",
      "According to our conversation, Dilip Seth is your father.\n",
      "================================\u001b[1m Human Message \u001b[0m=================================\n",
      "\n",
      "Who is Nidhi seth ?\n",
      "==================================\u001b[1m Ai Message \u001b[0m==================================\n",
      "\n",
      "According to our conversation, Nidhi Seth is your mother.\n"
     ]
    }
   ],
   "source": [
    "response_with_mem = graph_with_mem.invoke({\"messages\": \"Who is Nidhi seth ?\"},config=config)\n",
    "for m in response_with_mem[\"messages\"]:\n",
    "    m.pretty_print()"
   ]
  },
  {
   "cell_type": "markdown",
   "id": "cc7f2126",
   "metadata": {},
   "source": [
    "### Streaming in Langgraph"
   ]
  },
  {
   "cell_type": "code",
   "execution_count": 30,
   "id": "83b40e2d",
   "metadata": {},
   "outputs": [],
   "source": [
    "from langgraph.checkpoint.memory import MemorySaver\n",
    "memory = MemorySaver()"
   ]
  },
  {
   "cell_type": "code",
   "execution_count": 31,
   "id": "4280d3ee",
   "metadata": {},
   "outputs": [],
   "source": [
    "def superBot(state:State):\n",
    "    return {\"messages\": [\n",
    "        llm_with_tools.invoke(\n",
    "            state[\"messages\"])]}"
   ]
  },
  {
   "cell_type": "code",
   "execution_count": 32,
   "id": "222f5b11",
   "metadata": {},
   "outputs": [
    {
     "data": {
      "image/png": "[encoded data removed]",
      "text/plain": [
       "<IPython.core.display.Image object>"
      ]
     },
     "metadata": {},
     "output_type": "display_data"
    }
   ],
   "source": [
    "graph = StateGraph(State)\n",
    "graph.add_node(\"superBot\", superBot)\n",
    "graph.add_edge(START, \"superBot\")\n",
    "graph.add_edge(\"superBot\", END)\n",
    "\n",
    "graph_builder = graph.compile(checkpointer=memory)\n",
    "## Visualize the graph\n",
    "try:\n",
    "    display(Image(graph_builder.get_graph().draw_mermaid_png()))\n",
    "except Exception as e:\n",
    "    print(f\"Error displaying graph: {e}\")"
   ]
  },
  {
   "cell_type": "code",
   "execution_count": 33,
   "id": "eb8ac626",
   "metadata": {},
   "outputs": [
    {
     "data": {
      "text/plain": [
       "{'messages': [HumanMessage(content='Hello, My name is Abhishek, and I like cricket', additional_kwargs={}, response_metadata={}, id='c6b57dd5-6a40-4020-a74d-a18aa0a77ac5'),\n",
       "  AIMessage(content='', additional_kwargs={'tool_calls': [{'id': 'e813ebdrh', 'function': {'arguments': '{\"query\":\"cricket news\",\"search_depth\":\"basic\",\"topic\":\"news\"}', 'name': 'tavily_search'}, 'type': 'function'}]}, response_metadata={'token_usage': {'completion_tokens': 31, 'prompt_tokens': 1305, 'total_tokens': 1336, 'completion_time': 0.12811925, 'prompt_time': 0.07826469, 'queue_time': 0.05264737, 'total_time': 0.20638394}, 'model_name': 'llama-3.3-70b-versatile', 'system_fingerprint': 'fp_2ddfbb0da0', 'finish_reason': 'tool_calls', 'logprobs': None}, id='run--0290929e-5c11-46ac-9713-ef02ab131629-0', tool_calls=[{'name': 'tavily_search', 'args': {'query': 'cricket news', 'search_depth': 'basic', 'topic': 'news'}, 'id': 'e813ebdrh', 'type': 'tool_call'}], usage_metadata={'input_tokens': 1305, 'output_tokens': 31, 'total_tokens': 1336})]}"
      ]
     },
     "execution_count": 33,
     "metadata": {},
     "output_type": "execute_result"
    }
   ],
   "source": [
    "## Invoke the graph\n",
    "\n",
    "config = {\"configurable\": {\"thread_id\":\"1\"}}\n",
    "response = graph_builder.invoke(\n",
    "    {        \"messages\": \"Hello, My name is Abhishek, and I like cricket\"\n",
    "    },config=config\n",
    ")\n",
    "response"
   ]
  },
  {
   "cell_type": "code",
   "execution_count": 34,
   "id": "9c7acbc4",
   "metadata": {},
   "outputs": [
    {
     "name": "stdout",
     "output_type": "stream",
     "text": [
      "{'superBot': {'messages': [AIMessage(content='', additional_kwargs={'tool_calls': [{'id': '4zg24rpcd', 'function': {'arguments': '{\"query\":\"cricket news\",\"search_depth\":\"basic\",\"topic\":\"general\"}', 'name': 'tavily_search'}, 'type': 'function'}]}, response_metadata={'token_usage': {'completion_tokens': 31, 'prompt_tokens': 1305, 'total_tokens': 1336, 'completion_time': 0.127245975, 'prompt_time': 0.081634624, 'queue_time': 0.05307102600000001, 'total_time': 0.208880599}, 'model_name': 'llama-3.3-70b-versatile', 'system_fingerprint': 'fp_2ddfbb0da0', 'finish_reason': 'tool_calls', 'logprobs': None}, id='run--616f0739-f732-454d-8bbd-36b5b1ad4fa7-0', tool_calls=[{'name': 'tavily_search', 'args': {'query': 'cricket news', 'search_depth': 'basic', 'topic': 'general'}, 'id': '4zg24rpcd', 'type': 'tool_call'}], usage_metadata={'input_tokens': 1305, 'output_tokens': 31, 'total_tokens': 1336})]}}\n"
     ]
    }
   ],
   "source": [
    "## Streaming in Langgraph\n",
    "# 1. **Stream Mode**: Langgraph supports streaming responses, allowing for real-time interaction with the model, which is useful for applications requiring immediate feedback.\n",
    "# 2. **Updates Stream Mode**: The `stream_mode` parameter can be set to \"updates\" to receive incremental updates during the response generation, enabling dynamic content delivery.     \n",
    "\n",
    "## UPDATES Stream mode in Langgraph\n",
    "config = {\"configurable\": {\"thread_id\":\"3\"}}\n",
    "\n",
    "for chunk in graph_builder.stream(\n",
    "    {        \"messages\": \"Hello, My name is Abhishek, and I like cricket\"\n",
    "    },config=config,\n",
    "    ## Set the stream mode to UPDATES\n",
    "    stream_mode = \"updates\"\n",
    "\n",
    "):\n",
    "    print(chunk)"
   ]
  },
  {
   "cell_type": "code",
   "execution_count": 35,
   "id": "53e19d86",
   "metadata": {},
   "outputs": [
    {
     "name": "stdout",
     "output_type": "stream",
     "text": [
      "{'messages': [HumanMessage(content='Hello, My name is Abhishek, and I like cricket', additional_kwargs={}, response_metadata={}, id='fc38f559-fdb1-4f9c-8c91-bf56431bbf0a'), AIMessage(content='', additional_kwargs={'tool_calls': [{'id': '4zg24rpcd', 'function': {'arguments': '{\"query\":\"cricket news\",\"search_depth\":\"basic\",\"topic\":\"general\"}', 'name': 'tavily_search'}, 'type': 'function'}]}, response_metadata={'token_usage': {'completion_tokens': 31, 'prompt_tokens': 1305, 'total_tokens': 1336, 'completion_time': 0.127245975, 'prompt_time': 0.081634624, 'queue_time': 0.05307102600000001, 'total_time': 0.208880599}, 'model_name': 'llama-3.3-70b-versatile', 'system_fingerprint': 'fp_2ddfbb0da0', 'finish_reason': 'tool_calls', 'logprobs': None}, id='run--616f0739-f732-454d-8bbd-36b5b1ad4fa7-0', tool_calls=[{'name': 'tavily_search', 'args': {'query': 'cricket news', 'search_depth': 'basic', 'topic': 'general'}, 'id': '4zg24rpcd', 'type': 'tool_call'}], usage_metadata={'input_tokens': 1305, 'output_tokens': 31, 'total_tokens': 1336}), HumanMessage(content='Hello, My name is Abhishek, and I like cricket', additional_kwargs={}, response_metadata={}, id='8a73d5b3-31c4-4980-8ec6-11881e4366c9')]}\n",
      "{'messages': [HumanMessage(content='Hello, My name is Abhishek, and I like cricket', additional_kwargs={}, response_metadata={}, id='fc38f559-fdb1-4f9c-8c91-bf56431bbf0a'), AIMessage(content='', additional_kwargs={'tool_calls': [{'id': '4zg24rpcd', 'function': {'arguments': '{\"query\":\"cricket news\",\"search_depth\":\"basic\",\"topic\":\"general\"}', 'name': 'tavily_search'}, 'type': 'function'}]}, response_metadata={'token_usage': {'completion_tokens': 31, 'prompt_tokens': 1305, 'total_tokens': 1336, 'completion_time': 0.127245975, 'prompt_time': 0.081634624, 'queue_time': 0.05307102600000001, 'total_time': 0.208880599}, 'model_name': 'llama-3.3-70b-versatile', 'system_fingerprint': 'fp_2ddfbb0da0', 'finish_reason': 'tool_calls', 'logprobs': None}, id='run--616f0739-f732-454d-8bbd-36b5b1ad4fa7-0', tool_calls=[{'name': 'tavily_search', 'args': {'query': 'cricket news', 'search_depth': 'basic', 'topic': 'general'}, 'id': '4zg24rpcd', 'type': 'tool_call'}], usage_metadata={'input_tokens': 1305, 'output_tokens': 31, 'total_tokens': 1336}), HumanMessage(content='Hello, My name is Abhishek, and I like cricket', additional_kwargs={}, response_metadata={}, id='8a73d5b3-31c4-4980-8ec6-11881e4366c9'), AIMessage(content='', additional_kwargs={'tool_calls': [{'id': 'bf2ryjhkt', 'function': {'arguments': '{\"query\":\"latest cricket updates\",\"search_depth\":\"basic\",\"topic\":\"news\"}', 'name': 'tavily_search'}, 'type': 'function'}]}, response_metadata={'token_usage': {'completion_tokens': 31, 'prompt_tokens': 1358, 'total_tokens': 1389, 'completion_time': 0.112727273, 'prompt_time': 0.079245608, 'queue_time': 0.070991571, 'total_time': 0.191972881}, 'model_name': 'llama-3.3-70b-versatile', 'system_fingerprint': 'fp_6507bcfb6f', 'finish_reason': 'tool_calls', 'logprobs': None}, id='run--ae7ea834-3a81-4527-8d51-adac5297516e-0', tool_calls=[{'name': 'tavily_search', 'args': {'query': 'latest cricket updates', 'search_depth': 'basic', 'topic': 'news'}, 'id': 'bf2ryjhkt', 'type': 'tool_call'}], usage_metadata={'input_tokens': 1358, 'output_tokens': 31, 'total_tokens': 1389})]}\n"
     ]
    }
   ],
   "source": [
    "## VALUES Stream mode in Langgraph\n",
    "for chunk in graph_builder.stream(\n",
    "    {        \"messages\": \"Hello, My name is Abhishek, and I like cricket\"\n",
    "    },config=config,\n",
    "    ## Set the stream mode to UPDATES\n",
    "    stream_mode = \"values\"\n",
    "\n",
    "):\n",
    "    print(chunk)"
   ]
  }
 ],
 "metadata": {
  "kernelspec": {
   "display_name": ".venv",
   "language": "python",
   "name": "python3"
  },
  "language_info": {
   "codemirror_mode": {
    "name": "ipython",
    "version": 3
   },
   "file_extension": ".py",
   "mimetype": "text/x-python",
   "name": "python",
   "nbconvert_exporter": "python",
   "pygments_lexer": "ipython3",
   "version": "3.11.13"
  }
 },
 "nbformat": 4,
 "nbformat_minor": 5
}
